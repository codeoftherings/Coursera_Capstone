{
    "nbformat_minor": 1, 
    "cells": [
        {
            "source": "import requests\nimport pandas as pd\n\n", 
            "cell_type": "code", 
            "metadata": {}, 
            "outputs": [], 
            "execution_count": 1
        }, 
        {
            "source": "## The following steps are implemente in the code:\n1. Read the HTML table on the wiki page as a pandas dataframe\n2. clean the table by dropping cells with lacking info\n3. Merge cells with same postal code\n4. Print out shape of dataframe to show number of rows", 
            "cell_type": "markdown", 
            "metadata": {}
        }, 
        {
            "source": "df=pd.read_html(\"https://en.wikipedia.org/wiki/List_of_postal_codes_of_Canada:_M\")[0]\ndf.drop(df[df['Borough']=='Not assigned'].index,inplace=True)\ndf.reset_index(drop=True, inplace=True)\ndf.loc[df['Neighbourhood']=='Not assigned','Neighbourhood']=df['Borough']\nfoo= lambda a: \", \".join(a)\ndf_final=df.groupby(df[\"Postcode\"], sort=False).aggregate({'Borough':'first', 'Neighbourhood': foo}).reset_index()\ndf_final.head()", 
            "cell_type": "code", 
            "metadata": {}, 
            "outputs": [
                {
                    "output_type": "execute_result", 
                    "data": {
                        "text/html": "<div>\n<style scoped>\n    .dataframe tbody tr th:only-of-type {\n        vertical-align: middle;\n    }\n\n    .dataframe tbody tr th {\n        vertical-align: top;\n    }\n\n    .dataframe thead th {\n        text-align: right;\n    }\n</style>\n<table border=\"1\" class=\"dataframe\">\n  <thead>\n    <tr style=\"text-align: right;\">\n      <th></th>\n      <th>Postcode</th>\n      <th>Borough</th>\n      <th>Neighbourhood</th>\n    </tr>\n  </thead>\n  <tbody>\n    <tr>\n      <th>0</th>\n      <td>M3A</td>\n      <td>North York</td>\n      <td>Parkwoods</td>\n    </tr>\n    <tr>\n      <th>1</th>\n      <td>M4A</td>\n      <td>North York</td>\n      <td>Victoria Village</td>\n    </tr>\n    <tr>\n      <th>2</th>\n      <td>M5A</td>\n      <td>Downtown Toronto</td>\n      <td>Harbourfront, Regent Park</td>\n    </tr>\n    <tr>\n      <th>3</th>\n      <td>M6A</td>\n      <td>North York</td>\n      <td>Lawrence Heights, Lawrence Manor</td>\n    </tr>\n    <tr>\n      <th>4</th>\n      <td>M7A</td>\n      <td>Queen's Park</td>\n      <td>Queen's Park</td>\n    </tr>\n  </tbody>\n</table>\n</div>", 
                        "text/plain": "  Postcode           Borough                     Neighbourhood\n0      M3A        North York                         Parkwoods\n1      M4A        North York                  Victoria Village\n2      M5A  Downtown Toronto         Harbourfront, Regent Park\n3      M6A        North York  Lawrence Heights, Lawrence Manor\n4      M7A      Queen's Park                      Queen's Park"
                    }, 
                    "execution_count": 3, 
                    "metadata": {}
                }
            ], 
            "execution_count": 3
        }, 
        {
            "source": "#### Number of rows:", 
            "cell_type": "markdown", 
            "metadata": {}
        }, 
        {
            "source": "print (df_final.shape[0])", 
            "cell_type": "code", 
            "metadata": {}, 
            "outputs": [
                {
                    "output_type": "stream", 
                    "name": "stdout", 
                    "text": "103\n"
                }
            ], 
            "execution_count": 4
        }, 
        {
            "source": "", 
            "cell_type": "code", 
            "metadata": {}, 
            "outputs": [], 
            "execution_count": null
        }
    ], 
    "metadata": {
        "kernelspec": {
            "display_name": "Python 3.6", 
            "name": "python3", 
            "language": "python"
        }, 
        "language_info": {
            "mimetype": "text/x-python", 
            "nbconvert_exporter": "python", 
            "version": "3.6.8", 
            "name": "python", 
            "pygments_lexer": "ipython3", 
            "file_extension": ".py", 
            "codemirror_mode": {
                "version": 3, 
                "name": "ipython"
            }
        }
    }, 
    "nbformat": 4
}