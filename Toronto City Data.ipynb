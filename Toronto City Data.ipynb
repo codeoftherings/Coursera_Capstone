{
    "nbformat_minor": 1, 
    "cells": [
        {
            "source": "import requests\nimport pandas as pd\n\n", 
            "cell_type": "code", 
            "metadata": {}, 
            "outputs": [], 
            "execution_count": 53
        }, 
        {
            "source": "## The following steps are implemente in the code:\n1. Read the HTML table on the wiki page as a pandas dataframe\n2. clean the table by dropping cells with lacking info\n3. Merge cells with same postal code\n4. Print out shape of dataframe to show number of rows", 
            "cell_type": "markdown", 
            "metadata": {}
        }, 
        {
            "source": "df=pd.read_html(\"https://en.wikipedia.org/wiki/List_of_postal_codes_of_Canada:_M\")[0]\ndf.drop(df[df['Borough']=='Not assigned'].index,inplace=True)\ndf.reset_index(drop=True, inplace=True)\ndf.loc[df['Neighbourhood']=='Not assigned','Neighbourhood']=df['Borough']\nfoo= lambda a: \", \".join(a)\ndf_final=df.groupby(df[\"Postcode\"], sort=False).aggregate({'Borough':'first', 'Neighbourhood': foo}).reset_index()\nprint (df_final.shape[0])", 
            "cell_type": "code", 
            "metadata": {}, 
            "outputs": [
                {
                    "output_type": "stream", 
                    "name": "stdout", 
                    "text": "103\n"
                }
            ], 
            "execution_count": 56
        }, 
        {
            "source": "", 
            "cell_type": "code", 
            "metadata": {
                "collapsed": true
            }, 
            "outputs": [], 
            "execution_count": null
        }, 
        {
            "source": "", 
            "cell_type": "code", 
            "metadata": {}, 
            "outputs": [], 
            "execution_count": null
        }
    ], 
    "metadata": {
        "kernelspec": {
            "display_name": "Python 3.6", 
            "name": "python3", 
            "language": "python"
        }, 
        "language_info": {
            "mimetype": "text/x-python", 
            "nbconvert_exporter": "python", 
            "version": "3.6.8", 
            "name": "python", 
            "pygments_lexer": "ipython3", 
            "file_extension": ".py", 
            "codemirror_mode": {
                "version": 3, 
                "name": "ipython"
            }
        }
    }, 
    "nbformat": 4
}