{
    "nbformat_minor": 1, 
    "cells": [
        {
            "source": "# Capstone Project Notebook\n**This notebook contains the final capstone project for the IBM Data Science Professionals course on Coursera**", 
            "cell_type": "markdown", 
            "metadata": {
                "collapsed": true
            }
        }, 
        {
            "source": "import pandas as pd\nimport numpy as np", 
            "cell_type": "code", 
            "metadata": {}, 
            "outputs": [], 
            "execution_count": 1
        }, 
        {
            "source": "print(\"Hello Capstone Project Course!\")", 
            "cell_type": "code", 
            "metadata": {}, 
            "outputs": [
                {
                    "output_type": "stream", 
                    "name": "stdout", 
                    "text": "Hello Capstone Project Course!\n"
                }
            ], 
            "execution_count": 2
        }, 
        {
            "source": "## Introduction/ Business Problem", 
            "cell_type": "markdown", 
            "metadata": {}
        }, 
        {
            "source": "<p>\nOne of the greatest challenges to someone who wants to start their own cafe is to decide its location. A lot of factors play into this decision, but one of the most important elements to consider is the placement of its competition. Ideally a proprietor wouldn't find it in his/her best interests to open  cafe in an area which already has a several cafes because that will make it harder for them to compete for customers. However, on the other hand it would be futile for the cafe to open in a area completely devoid of other cafes as it is an indication of either low population of that area or low public interest in cafes.</p>\n<p>Through analyzing data regarding number of cafes in a particular area, I hope to find an ideal location where it would be most profitable for the stakeholder to start a cafe restaurant. The data will be sourced from Foursquare.\n\n</p>", 
            "cell_type": "markdown", 
            "metadata": {}
        }, 
        {
            "source": "## Data", 
            "cell_type": "markdown", 
            "metadata": {}
        }, 
        {
            "source": "\nThe requirements are as follows:\n    1. Cafes/coffee shops in the city of interest (Toronto)\n    2. Location of the cafe in the form of its Latitude and Longitude coordinates.\nThe data wil be sourced from Foursquare by making appropriate API calls.\nThe data will be cleaned, preproce\n    \n\n", 
            "cell_type": "markdown", 
            "metadata": {}
        }, 
        {
            "source": "", 
            "cell_type": "code", 
            "metadata": {}, 
            "outputs": [], 
            "execution_count": null
        }
    ], 
    "metadata": {
        "kernelspec": {
            "display_name": "Python 3.6", 
            "name": "python3", 
            "language": "python"
        }, 
        "language_info": {
            "mimetype": "text/x-python", 
            "nbconvert_exporter": "python", 
            "version": "3.6.8", 
            "name": "python", 
            "pygments_lexer": "ipython3", 
            "file_extension": ".py", 
            "codemirror_mode": {
                "version": 3, 
                "name": "ipython"
            }
        }
    }, 
    "nbformat": 4
}